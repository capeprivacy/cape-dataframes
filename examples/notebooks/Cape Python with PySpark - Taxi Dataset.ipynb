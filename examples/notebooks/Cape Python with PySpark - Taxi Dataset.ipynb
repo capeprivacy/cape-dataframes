{
 "cells": [
  {
   "cell_type": "markdown",
   "metadata": {},
   "source": [
    "### Exploring Cape Python with PySpark: Taxi Dataset\n",
    "\n",
    "This Jupyter Notebook was presented as part of [Coiled's Science Thursdays](https://coiled.io/blog/data-privacy-distributed-compute.html). To follow along, you will need to [download the example dataset](https://data.cityofnewyork.us/dataset/2016-Yellow-Taxi-Trip-Data/uacg-pexx) and put it in a relative folder called `data` (or update the file path below). You will also need to [download the policy file]() and put it in a relative folder called `policy` or ensure you have Cape Python installed locally and change the path to use the copy in the `examples` folder.\n",
    "\n",
    "For more information on Cape Python, please check out our [documentation](https://docs.capeprivacy.com/libraries/cape-python/)."
   ]
  },
  {
   "cell_type": "code",
   "execution_count": 19,
   "metadata": {},
   "outputs": [
    {
     "data": {
      "text/html": [
       "\n",
       "            <div>\n",
       "                <p><b>SparkSession - hive</b></p>\n",
       "                \n",
       "        <div>\n",
       "            <p><b>SparkContext</b></p>\n",
       "\n",
       "            <p><a href=\"http://kjamistan.lan:4040\">Spark UI</a></p>\n",
       "\n",
       "            <dl>\n",
       "              <dt>Version</dt>\n",
       "                <dd><code>v3.0.0</code></dd>\n",
       "              <dt>Master</dt>\n",
       "                <dd><code>local[*]</code></dd>\n",
       "              <dt>AppName</dt>\n",
       "                <dd><code>PySparkShell</code></dd>\n",
       "            </dl>\n",
       "        </div>\n",
       "        \n",
       "            </div>\n",
       "        "
      ],
      "text/plain": [
       "<pyspark.sql.session.SparkSession at 0x7ff45d67f278>"
      ]
     },
     "execution_count": 19,
     "metadata": {},
     "output_type": "execute_result"
    }
   ],
   "source": [
    "spark"
   ]
  },
  {
   "cell_type": "code",
   "execution_count": 20,
   "metadata": {},
   "outputs": [],
   "source": [
    "import cape_privacy as cape\n",
    "from pyspark.sql.types import IntegerType"
   ]
  },
  {
   "cell_type": "markdown",
   "metadata": {},
   "source": [
    "## What do we know about this dataset?\n",
    "\n",
    "[Dataset Documentation](https://data.cityofnewyork.us/dataset/2016-Yellow-Taxi-Trip-Data/uacg-pexx): You can also download the dataset on this page. Please note it is about 7G of data.\n",
    "\n",
    "[Data Column Description](https://www1.nyc.gov/assets/tlc/downloads/pdf/data_dictionary_trip_records_yellow.pdf): This can tell us more information about the columns available.\n",
    "\n",
    "[Latitude and Longitude](https://en.wikipedia.org/wiki/Decimal_degrees): A nice resource for analyzing the precision of different decimal points of Latitude and Longitude degrees"
   ]
  },
  {
   "cell_type": "code",
   "execution_count": 21,
   "metadata": {},
   "outputs": [],
   "source": [
    "cape.spark.transformations.NumericRounding?"
   ]
  },
  {
   "cell_type": "code",
   "execution_count": 22,
   "metadata": {},
   "outputs": [],
   "source": [
    "df = spark.read.csv('../data/2016_Yellow_Taxi_Trip_Data.csv',header=True)"
   ]
  },
  {
   "cell_type": "code",
   "execution_count": 23,
   "metadata": {},
   "outputs": [
    {
     "name": "stdout",
     "output_type": "stream",
     "text": [
      "+--------+--------------------+---------------------+---------------+-------------+-------------------+------------------+----------+------------------+-------------------+------------------+------------+-----------+-----+-------+----------+------------+---------------------+------------+------------+------------+\n",
      "|VendorID|tpep_pickup_datetime|tpep_dropoff_datetime|passenger_count|trip_distance|   pickup_longitude|   pickup_latitude|RatecodeID|store_and_fwd_flag|  dropoff_longitude|  dropoff_latitude|payment_type|fare_amount|extra|mta_tax|tip_amount|tolls_amount|improvement_surcharge|total_amount|PULocationID|DOLocationID|\n",
      "+--------+--------------------+---------------------+---------------+-------------+-------------------+------------------+----------+------------------+-------------------+------------------+------------+-----------+-----+-------+----------+------------+---------------------+------------+------------+------------+\n",
      "|       2|01/02/2016 08:05:...| 01/02/2016 08:26:...|              1|        15.34|    -73.78955078125| 40.64349365234375|         1|                 N|-73.926315307617188|40.766254425048828|           2|         42|    0|    0.5|         0|           0|                  0.3|        42.8|        null|        null|\n",
      "|       1|01/24/2016 06:25:...| 01/24/2016 06:38:...|              1|          2.2|-74.001029968261719|40.730949401855469|         1|                 N|-73.989913940429687|40.751430511474609|           1|         10|    1|    0.5|         0|           0|                  0.3|        11.8|        null|        null|\n",
      "|       2|01/13/2016 10:55:...| 01/13/2016 11:19:...|              1|         2.95|-73.955703735351563|40.769451141357422|         1|                 N|-73.990081787109375|40.756870269775391|           1|         16|    0|    0.5|      3.36|           0|                  0.3|       20.16|        null|        null|\n",
      "+--------+--------------------+---------------------+---------------+-------------+-------------------+------------------+----------+------------------+-------------------+------------------+------------+-----------+-----+-------+----------+------------+---------------------+------------+------------+------------+\n",
      "\n"
     ]
    }
   ],
   "source": [
    "df.sample(0.1).limit(3).show()"
   ]
  },
  {
   "cell_type": "code",
   "execution_count": 24,
   "metadata": {},
   "outputs": [
    {
     "name": "stdout",
     "output_type": "stream",
     "text": [
      "label: taxi_dataset_policy\r\n",
      "version: 1\r\n",
      "rules:\r\n",
      "  - match:\r\n",
      "      name: VendorID \r\n",
      "    actions:\r\n",
      "      - transform:\r\n",
      "          type: \"tokenizer\"\r\n",
      "          max_token_len: 10\r\n",
      "          key: \"Please change this :)\"\r\n",
      "  - match:\r\n",
      "      name: passenger_count\r\n",
      "    actions:\r\n",
      "      - transform:\r\n",
      "          type: \"numeric-perturbation\"\r\n",
      "          dtype: Integer\r\n",
      "          min: 0\r\n",
      "          max: 2\r\n",
      "  - match:\r\n",
      "      name: pickup_longitude\r\n",
      "    actions:\r\n",
      "      - transform:\r\n",
      "          type: \"numeric-rounding\"\r\n",
      "          dtype: Double\r\n",
      "          precision: 4\r\n",
      "  - match:\r\n",
      "      name: pickup_latitude\r\n",
      "    actions:\r\n",
      "      - transform:\r\n",
      "          type: \"numeric-rounding\"\r\n",
      "          dtype: Double                   \r\n",
      "          precision: 4                   \r\n",
      "  - match:\r\n",
      "      name: dropoff_longitude                    \r\n",
      "    actions:                                    \r\n",
      "      - transform:                              \r\n",
      "          type: \"numeric-rounding\"              \r\n",
      "          dtype: Double                         \r\n",
      "          precision: 4                         \r\n",
      "  - match:                                      \r\n",
      "      name: dropoff_latitude                     \r\n",
      "    actions:                                    \r\n",
      "      - transform:                              \r\n",
      "          type: \"numeric-rounding\"              \r\n",
      "          dtype: Double                         \r\n",
      "          precision: 4                         \r\n",
      "  - match:\r\n",
      "      name: PULocationID\r\n",
      "    actions:\r\n",
      "      - transform:\r\n",
      "          type: \"column-redact\"\r\n",
      "          columns: [\"PULocationID\", \"DOLocationID\"] \r\n"
     ]
    }
   ],
   "source": [
    "!cat ../policy/nyc_taxi_dataset_policy.yaml"
   ]
  },
  {
   "cell_type": "code",
   "execution_count": 25,
   "metadata": {},
   "outputs": [
    {
     "name": "stderr",
     "output_type": "stream",
     "text": [
      "/usr/local/spark/python/pyspark/sql/pandas/functions.py:386: UserWarning: In Python 3.6+ and Spark 3.0+, it is preferred to specify type hints for pandas UDF instead of specifying pandas UDF type which will be deprecated in the future releases. See SPARK-28264 for more details.\n",
      "  \"in the future releases. See SPARK-28264 for more details.\", UserWarning)\n"
     ]
    }
   ],
   "source": [
    "policy = cape.parse_policy(\"../policy/nyc_taxi_dataset_policy.yaml\")\n",
    "caped_df = cape.apply_policy(policy, df)"
   ]
  },
  {
   "cell_type": "code",
   "execution_count": 26,
   "metadata": {},
   "outputs": [
    {
     "name": "stdout",
     "output_type": "stream",
     "text": [
      "+----------+--------------------+---------------------+---------------+-------------+----------------+---------------+----------+------------------+-----------------+----------------+------------+-----------+-----+-------+----------+------------+---------------------+------------+\n",
      "|  VendorID|tpep_pickup_datetime|tpep_dropoff_datetime|passenger_count|trip_distance|pickup_longitude|pickup_latitude|RatecodeID|store_and_fwd_flag|dropoff_longitude|dropoff_latitude|payment_type|fare_amount|extra|mta_tax|tip_amount|tolls_amount|improvement_surcharge|total_amount|\n",
      "+----------+--------------------+---------------------+---------------+-------------+----------------+---------------+----------+------------------+-----------------+----------------+------------+-----------+-----+-------+----------+------------+---------------------+------------+\n",
      "|5cf1d034a9|01/10/2016 01:07:...| 01/10/2016 01:35:...|            6.0|         5.88|        -73.9813|        40.7809|         1|                 N|          -73.914|         40.7597|           2|         23|  0.5|    0.5|         0|           0|                  0.3|        24.3|\n",
      "|5cf1d034a9|01/02/2016 06:32:...| 01/02/2016 06:54:...|            1.0|         2.86|        -73.9623|         40.779|         1|                 N|         -73.9908|         40.7505|           2|       15.5|    0|    0.5|         0|           0|                  0.3|        16.3|\n",
      "|5cf1d034a9|01/31/2016 11:22:...| 01/31/2016 11:33:...|            3.0|         3.04|        -73.9847|        40.7513|         1|                 N|         -73.9534|         40.7801|           1|         11|    0|    0.5|      3.54|           0|                  0.3|       15.34|\n",
      "+----------+--------------------+---------------------+---------------+-------------+----------------+---------------+----------+------------------+-----------------+----------------+------------+-----------+-----+-------+----------+------------+---------------------+------------+\n",
      "\n"
     ]
    }
   ],
   "source": [
    "caped_df.sample(0.1).limit(3).show()"
   ]
  },
  {
   "cell_type": "code",
   "execution_count": 27,
   "metadata": {},
   "outputs": [],
   "source": [
    "caped_histogram = caped_df.select(\"passenger_count\").rdd.flatMap(lambda x: x).histogram(10)"
   ]
  },
  {
   "cell_type": "code",
   "execution_count": 28,
   "metadata": {},
   "outputs": [],
   "source": [
    "raw_histogram = df.select(df.passenger_count.cast(\"integer\").alias('passenger_count_int')).rdd.flatMap(lambda x: x).histogram(10)"
   ]
  },
  {
   "cell_type": "code",
   "execution_count": 29,
   "metadata": {},
   "outputs": [],
   "source": [
    "%matplotlib inline\n",
    "import pandas as pd"
   ]
  },
  {
   "cell_type": "code",
   "execution_count": 30,
   "metadata": {},
   "outputs": [
    {
     "data": {
      "image/png": "[encoded data removed]",
      "text/plain": [
       "<Figure size 432x288 with 1 Axes>"
      ]
     },
     "metadata": {
      "needs_background": "light"
     },
     "output_type": "display_data"
    }
   ],
   "source": [
    "pd.DataFrame(\n",
    "    list(zip(*raw_histogram)), \n",
    "    columns=['bin', 'frequency']\n",
    ").set_index(\n",
    "    'bin'\n",
    ").plot(kind='bar');"
   ]
  },
  {
   "cell_type": "code",
   "execution_count": 31,
   "metadata": {},
   "outputs": [
    {
     "data": {
      "image/png": "[encoded data removed]",
      "text/plain": [
       "<Figure size 432x288 with 1 Axes>"
      ]
     },
     "metadata": {
      "needs_background": "light"
     },
     "output_type": "display_data"
    }
   ],
   "source": [
    "pd.DataFrame(\n",
    "    list(zip(*caped_histogram)), \n",
    "    columns=['bin', 'frequency']\n",
    ").set_index(\n",
    "    'bin'\n",
    ").plot(kind='bar');"
   ]
  },
  {
   "cell_type": "code",
   "execution_count": null,
   "metadata": {},
   "outputs": [],
   "source": []
  }
 ],
 "metadata": {
  "kernelspec": {
   "display_name": "Python 3",
   "language": "python",
   "name": "python3"
  },
  "language_info": {
   "codemirror_mode": {
    "name": "ipython",
    "version": 3
   },
   "file_extension": ".py",
   "mimetype": "text/x-python",
   "name": "python",
   "nbconvert_exporter": "python",
   "pygments_lexer": "ipython3",
   "version": "3.6.9"
  }
 },
 "nbformat": 4,
 "nbformat_minor": 2
}

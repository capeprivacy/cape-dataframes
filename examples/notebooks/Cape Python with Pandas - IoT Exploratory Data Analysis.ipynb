{
 "cells": [
  {
   "cell_type": "markdown",
   "metadata": {},
   "source": [
    "### Exploring Cape Python with Pandas: IoT Dataset\n",
    "\n",
    "This Jupyter Notebook was presented as part of [Coiled's Science Thursdays](https://coiled.io/blog/data-privacy-distributed-compute.html). To follow along, you will need to [download the example dataset](https://capeprivacy.com/example-dataset/) and put it in a relative folder called `data` (or update the file path below). You will also need to [download the policy file]() and put it in a relative folder called `policy` or ensure you have Cape Python installed locally and change the path to use the copy in the `examples` folder.\n",
    "\n",
    "For more information on Cape Python, please check out our [documentation](https://docs.capeprivacy.com/libraries/cape-python/)."
   ]
  },
  {
   "cell_type": "code",
   "execution_count": 1,
   "metadata": {},
   "outputs": [],
   "source": [
    "import pandas as pd\n",
    "import cape_dataframes as cape_df\n",
    "import cape_dataframes.pandas.transformations as pandas_transformations\n",
    "\n",
    "%matplotlib inline"
   ]
  },
  {
   "cell_type": "code",
   "execution_count": 2,
   "metadata": {},
   "outputs": [],
   "source": [
    "df = pd.read_csv('../data/iot_example.csv')"
   ]
  },
  {
   "cell_type": "code",
   "execution_count": 3,
   "metadata": {},
   "outputs": [
    {
     "data": {
      "text/html": [
       "<div>\n",
       "<style scoped>\n",
       "    .dataframe tbody tr th:only-of-type {\n",
       "        vertical-align: middle;\n",
       "    }\n",
       "\n",
       "    .dataframe tbody tr th {\n",
       "        vertical-align: top;\n",
       "    }\n",
       "\n",
       "    .dataframe thead th {\n",
       "        text-align: right;\n",
       "    }\n",
       "</style>\n",
       "<table border=\"1\" class=\"dataframe\">\n",
       "  <thead>\n",
       "    <tr style=\"text-align: right;\">\n",
       "      <th></th>\n",
       "      <th>timestamp</th>\n",
       "      <th>username</th>\n",
       "      <th>temperature</th>\n",
       "      <th>heartrate</th>\n",
       "      <th>build</th>\n",
       "      <th>latest</th>\n",
       "      <th>note</th>\n",
       "    </tr>\n",
       "  </thead>\n",
       "  <tbody>\n",
       "    <tr>\n",
       "      <th>0</th>\n",
       "      <td>2017-01-01T12:00:23</td>\n",
       "      <td>michaelsmith</td>\n",
       "      <td>12</td>\n",
       "      <td>67</td>\n",
       "      <td>4e6a7805-8faa-2768-6ef6-eb3198b483ac</td>\n",
       "      <td>0</td>\n",
       "      <td>interval</td>\n",
       "    </tr>\n",
       "    <tr>\n",
       "      <th>1</th>\n",
       "      <td>2017-01-01T12:01:09</td>\n",
       "      <td>kharrison</td>\n",
       "      <td>6</td>\n",
       "      <td>78</td>\n",
       "      <td>7256b7b0-e502-f576-62ec-ed73533c9c84</td>\n",
       "      <td>0</td>\n",
       "      <td>wake</td>\n",
       "    </tr>\n",
       "    <tr>\n",
       "      <th>2</th>\n",
       "      <td>2017-01-01T12:01:34</td>\n",
       "      <td>smithadam</td>\n",
       "      <td>5</td>\n",
       "      <td>89</td>\n",
       "      <td>9226c94b-bb4b-a6c8-8e02-cb42b53e9c90</td>\n",
       "      <td>0</td>\n",
       "      <td>NaN</td>\n",
       "    </tr>\n",
       "    <tr>\n",
       "      <th>3</th>\n",
       "      <td>2017-01-01T12:02:09</td>\n",
       "      <td>eddierodriguez</td>\n",
       "      <td>28</td>\n",
       "      <td>76</td>\n",
       "      <td>2599ac79-e5e0-5117-b8e1-57e5ced036f7</td>\n",
       "      <td>0</td>\n",
       "      <td>update</td>\n",
       "    </tr>\n",
       "    <tr>\n",
       "      <th>4</th>\n",
       "      <td>2017-01-01T12:02:36</td>\n",
       "      <td>kenneth94</td>\n",
       "      <td>29</td>\n",
       "      <td>62</td>\n",
       "      <td>122f1c6a-403c-2221-6ed1-b5caa08f11e0</td>\n",
       "      <td>0</td>\n",
       "      <td>user</td>\n",
       "    </tr>\n",
       "  </tbody>\n",
       "</table>\n",
       "</div>"
      ],
      "text/plain": [
       "             timestamp        username  temperature  heartrate  \\\n",
       "0  2017-01-01T12:00:23    michaelsmith           12         67   \n",
       "1  2017-01-01T12:01:09       kharrison            6         78   \n",
       "2  2017-01-01T12:01:34       smithadam            5         89   \n",
       "3  2017-01-01T12:02:09  eddierodriguez           28         76   \n",
       "4  2017-01-01T12:02:36       kenneth94           29         62   \n",
       "\n",
       "                                  build  latest      note  \n",
       "0  4e6a7805-8faa-2768-6ef6-eb3198b483ac       0  interval  \n",
       "1  7256b7b0-e502-f576-62ec-ed73533c9c84       0      wake  \n",
       "2  9226c94b-bb4b-a6c8-8e02-cb42b53e9c90       0       NaN  \n",
       "3  2599ac79-e5e0-5117-b8e1-57e5ced036f7       0    update  \n",
       "4  122f1c6a-403c-2221-6ed1-b5caa08f11e0       0      user  "
      ]
     },
     "execution_count": 3,
     "metadata": {},
     "output_type": "execute_result"
    }
   ],
   "source": [
    "df.head()"
   ]
  },
  {
   "cell_type": "code",
   "execution_count": 4,
   "metadata": {},
   "outputs": [
    {
     "data": {
      "text/plain": [
       "<AxesSubplot:>"
      ]
     },
     "execution_count": 4,
     "metadata": {},
     "output_type": "execute_result"
    },
    {
     "data": {
      "image/png": "[encoded data removed]",
      "text/plain": [
       "<Figure size 432x288 with 1 Axes>"
      ]
     },
     "metadata": {
      "needs_background": "light"
     },
     "output_type": "display_data"
    }
   ],
   "source": [
    "df.username.value_counts().hist(bins=30)"
   ]
  },
  {
   "cell_type": "markdown",
   "metadata": {},
   "source": [
    "### Based off an initial look, the columns I am most concerned about are timestamp and username. We want to obfuscate those but leave some information / utility so we can still do our job as data scientists!"
   ]
  },
  {
   "cell_type": "code",
   "execution_count": null,
   "metadata": {},
   "outputs": [],
   "source": [
    "pandas_transformations."
   ]
  },
  {
   "cell_type": "code",
   "execution_count": 5,
   "metadata": {},
   "outputs": [],
   "source": [
    "pandas_transformations.DateTruncation?"
   ]
  },
  {
   "cell_type": "code",
   "execution_count": 6,
   "metadata": {},
   "outputs": [
    {
     "data": {
      "text/plain": [
       "timestamp      object\n",
       "username       object\n",
       "temperature     int64\n",
       "heartrate       int64\n",
       "build          object\n",
       "latest          int64\n",
       "note           object\n",
       "dtype: object"
      ]
     },
     "execution_count": 6,
     "metadata": {},
     "output_type": "execute_result"
    }
   ],
   "source": [
    "df.dtypes"
   ]
  },
  {
   "cell_type": "markdown",
   "metadata": {},
   "source": [
    "### I need to make sure this is the proper dtype! :) "
   ]
  },
  {
   "cell_type": "code",
   "execution_count": 7,
   "metadata": {},
   "outputs": [],
   "source": [
    "df['timestamp'] = pd.to_datetime(df['timestamp'])"
   ]
  },
  {
   "cell_type": "code",
   "execution_count": 8,
   "metadata": {},
   "outputs": [
    {
     "data": {
      "text/plain": [
       "0        2017-01-01 12:00:23\n",
       "1        2017-01-01 12:01:09\n",
       "2        2017-01-01 12:01:34\n",
       "3        2017-01-01 12:02:09\n",
       "4        2017-01-01 12:02:36\n",
       "                 ...        \n",
       "146392   2017-02-28 23:58:06\n",
       "146393   2017-02-28 23:58:43\n",
       "146394   2017-02-28 23:59:23\n",
       "146395   2017-02-28 23:59:48\n",
       "146396   2017-03-01 00:00:30\n",
       "Name: timestamp, Length: 146397, dtype: datetime64[ns]"
      ]
     },
     "execution_count": 8,
     "metadata": {},
     "output_type": "execute_result"
    }
   ],
   "source": [
    "df['timestamp']"
   ]
  },
  {
   "cell_type": "code",
   "execution_count": 9,
   "metadata": {},
   "outputs": [],
   "source": [
    "truncate_date = pandas_transformations.DateTruncation(frequency=\"day\")"
   ]
  },
  {
   "cell_type": "code",
   "execution_count": 10,
   "metadata": {},
   "outputs": [
    {
     "data": {
      "text/plain": [
       "0        2017-01-01\n",
       "1        2017-01-01\n",
       "2        2017-01-01\n",
       "3        2017-01-01\n",
       "4        2017-01-01\n",
       "            ...    \n",
       "146392   2017-02-28\n",
       "146393   2017-02-28\n",
       "146394   2017-02-28\n",
       "146395   2017-02-28\n",
       "146396   2017-03-01\n",
       "Length: 146397, dtype: datetime64[ns]"
      ]
     },
     "execution_count": 10,
     "metadata": {},
     "output_type": "execute_result"
    }
   ],
   "source": [
    "truncate_date(df['timestamp'])"
   ]
  },
  {
   "cell_type": "code",
   "execution_count": 11,
   "metadata": {},
   "outputs": [],
   "source": [
    "df['timestamp'] = truncate_date(df['timestamp'])"
   ]
  },
  {
   "cell_type": "code",
   "execution_count": 12,
   "metadata": {
    "scrolled": true
   },
   "outputs": [
    {
     "data": {
      "text/html": [
       "<div>\n",
       "<style scoped>\n",
       "    .dataframe tbody tr th:only-of-type {\n",
       "        vertical-align: middle;\n",
       "    }\n",
       "\n",
       "    .dataframe tbody tr th {\n",
       "        vertical-align: top;\n",
       "    }\n",
       "\n",
       "    .dataframe thead th {\n",
       "        text-align: right;\n",
       "    }\n",
       "</style>\n",
       "<table border=\"1\" class=\"dataframe\">\n",
       "  <thead>\n",
       "    <tr style=\"text-align: right;\">\n",
       "      <th></th>\n",
       "      <th>timestamp</th>\n",
       "      <th>username</th>\n",
       "      <th>temperature</th>\n",
       "      <th>heartrate</th>\n",
       "      <th>build</th>\n",
       "      <th>latest</th>\n",
       "      <th>note</th>\n",
       "    </tr>\n",
       "  </thead>\n",
       "  <tbody>\n",
       "    <tr>\n",
       "      <th>0</th>\n",
       "      <td>2017-01-01</td>\n",
       "      <td>michaelsmith</td>\n",
       "      <td>12</td>\n",
       "      <td>67</td>\n",
       "      <td>4e6a7805-8faa-2768-6ef6-eb3198b483ac</td>\n",
       "      <td>0</td>\n",
       "      <td>interval</td>\n",
       "    </tr>\n",
       "    <tr>\n",
       "      <th>1</th>\n",
       "      <td>2017-01-01</td>\n",
       "      <td>kharrison</td>\n",
       "      <td>6</td>\n",
       "      <td>78</td>\n",
       "      <td>7256b7b0-e502-f576-62ec-ed73533c9c84</td>\n",
       "      <td>0</td>\n",
       "      <td>wake</td>\n",
       "    </tr>\n",
       "    <tr>\n",
       "      <th>2</th>\n",
       "      <td>2017-01-01</td>\n",
       "      <td>smithadam</td>\n",
       "      <td>5</td>\n",
       "      <td>89</td>\n",
       "      <td>9226c94b-bb4b-a6c8-8e02-cb42b53e9c90</td>\n",
       "      <td>0</td>\n",
       "      <td>NaN</td>\n",
       "    </tr>\n",
       "    <tr>\n",
       "      <th>3</th>\n",
       "      <td>2017-01-01</td>\n",
       "      <td>eddierodriguez</td>\n",
       "      <td>28</td>\n",
       "      <td>76</td>\n",
       "      <td>2599ac79-e5e0-5117-b8e1-57e5ced036f7</td>\n",
       "      <td>0</td>\n",
       "      <td>update</td>\n",
       "    </tr>\n",
       "    <tr>\n",
       "      <th>4</th>\n",
       "      <td>2017-01-01</td>\n",
       "      <td>kenneth94</td>\n",
       "      <td>29</td>\n",
       "      <td>62</td>\n",
       "      <td>122f1c6a-403c-2221-6ed1-b5caa08f11e0</td>\n",
       "      <td>0</td>\n",
       "      <td>user</td>\n",
       "    </tr>\n",
       "  </tbody>\n",
       "</table>\n",
       "</div>"
      ],
      "text/plain": [
       "   timestamp        username  temperature  heartrate  \\\n",
       "0 2017-01-01    michaelsmith           12         67   \n",
       "1 2017-01-01       kharrison            6         78   \n",
       "2 2017-01-01       smithadam            5         89   \n",
       "3 2017-01-01  eddierodriguez           28         76   \n",
       "4 2017-01-01       kenneth94           29         62   \n",
       "\n",
       "                                  build  latest      note  \n",
       "0  4e6a7805-8faa-2768-6ef6-eb3198b483ac       0  interval  \n",
       "1  7256b7b0-e502-f576-62ec-ed73533c9c84       0      wake  \n",
       "2  9226c94b-bb4b-a6c8-8e02-cb42b53e9c90       0       NaN  \n",
       "3  2599ac79-e5e0-5117-b8e1-57e5ced036f7       0    update  \n",
       "4  122f1c6a-403c-2221-6ed1-b5caa08f11e0       0      user  "
      ]
     },
     "execution_count": 12,
     "metadata": {},
     "output_type": "execute_result"
    }
   ],
   "source": [
    "df.head()"
   ]
  },
  {
   "cell_type": "markdown",
   "metadata": {},
   "source": [
    "### I'm concerned that the Username column should also be protected"
   ]
  },
  {
   "cell_type": "code",
   "execution_count": 13,
   "metadata": {},
   "outputs": [],
   "source": [
    "pandas_transformations.Tokenizer?"
   ]
  },
  {
   "cell_type": "code",
   "execution_count": 14,
   "metadata": {},
   "outputs": [],
   "source": [
    "tokenize_username = pandas_transformations.Tokenizer(key='super_secret_please_dont_use_this', max_token_len=20)"
   ]
  },
  {
   "cell_type": "code",
   "execution_count": 15,
   "metadata": {},
   "outputs": [
    {
     "data": {
      "text/plain": [
       "41aacaf4768667867bd9    45\n",
       "61922d813d063dc3843b    43\n",
       "1de5f9b67a14f14fdc54    41\n",
       "fd3cf6c6f1fd54282d27    40\n",
       "a7c6590a26239398765b    37\n",
       "                        ..\n",
       "075fdd85d30fb8938ce7     1\n",
       "3cd4b15a2c436a69dc45     1\n",
       "51a587af2bc372a8d891     1\n",
       "df408e3193db250fa343     1\n",
       "78adda11e977f49e6575     1\n",
       "Name: username, Length: 96795, dtype: int64"
      ]
     },
     "execution_count": 15,
     "metadata": {},
     "output_type": "execute_result"
    }
   ],
   "source": [
    "tokenize_username(df['username']).value_counts()"
   ]
  },
  {
   "cell_type": "code",
   "execution_count": 16,
   "metadata": {},
   "outputs": [],
   "source": [
    "df['username'] = tokenize_username(df['username'])"
   ]
  },
  {
   "cell_type": "markdown",
   "metadata": {},
   "source": [
    "### Now it's time to save this dataset and share for larger data science tasks"
   ]
  },
  {
   "cell_type": "code",
   "execution_count": 17,
   "metadata": {},
   "outputs": [],
   "source": [
    "df.to_csv('../data/caped_iot_example.csv')"
   ]
  },
  {
   "cell_type": "code",
   "execution_count": null,
   "metadata": {},
   "outputs": [],
   "source": []
  }
 ],
 "metadata": {
  "kernelspec": {
   "display_name": "cape-df",
   "language": "python",
   "name": "python3"
  },
  "language_info": {
   "codemirror_mode": {
    "name": "ipython",
    "version": 3
   },
   "file_extension": ".py",
   "mimetype": "text/x-python",
   "name": "python",
   "nbconvert_exporter": "python",
   "pygments_lexer": "ipython3",
   "version": "3.8.16"
  },
  "vscode": {
   "interpreter": {
    "hash": "2c0eb9acd3ce9f628738cc91d7613a5d048e1a93f709104c9a35d77254cfaaac"
   }
  }
 },
 "nbformat": 4,
 "nbformat_minor": 2
}
